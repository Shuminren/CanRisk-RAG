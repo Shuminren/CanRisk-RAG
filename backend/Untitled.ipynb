{
 "cells": [
  {
   "cell_type": "code",
   "execution_count": 4,
   "id": "e92bd9a9-013b-4419-a6f2-fb11e62d8076",
   "metadata": {},
   "outputs": [
    {
     "name": "stdout",
     "output_type": "stream",
     "text": [
      "/Users/renshumin/Desktop/二院工作/科研/CRPM-RAG/project/backend\n"
     ]
    }
   ],
   "source": [
    "import os\n",
    "print(os.getcwd())\n"
   ]
  },
  {
   "cell_type": "code",
   "execution_count": 5,
   "id": "65cf8aa1-2818-454a-9800-fd2e74aab83e",
   "metadata": {},
   "outputs": [
    {
     "name": "stdout",
     "output_type": "stream",
     "text": [
      "Defaulting to user installation because normal site-packages is not writeable\n",
      "Requirement already satisfied: flask in /Users/renshumin/Library/Python/3.9/lib/python/site-packages (from -r requirements.txt (line 1)) (3.1.0)\n",
      "Requirement already satisfied: requests in /Users/renshumin/Library/Python/3.9/lib/python/site-packages (from -r requirements.txt (line 2)) (2.32.3)\n",
      "Requirement already satisfied: numpy in /Users/renshumin/Library/Python/3.9/lib/python/site-packages (from -r requirements.txt (line 3)) (2.0.2)\n",
      "Requirement already satisfied: faiss-cpu in /Users/renshumin/Library/Python/3.9/lib/python/site-packages (from -r requirements.txt (line 4)) (1.10.0)\n",
      "Requirement already satisfied: pandas in /Users/renshumin/Library/Python/3.9/lib/python/site-packages (from -r requirements.txt (line 5)) (2.2.3)\n",
      "Requirement already satisfied: sentence-transformers in /Users/renshumin/Library/Python/3.9/lib/python/site-packages (from -r requirements.txt (line 6)) (4.0.2)\n",
      "Requirement already satisfied: scikit-learn in /Users/renshumin/Library/Python/3.9/lib/python/site-packages (from -r requirements.txt (line 7)) (1.6.1)\n",
      "Requirement already satisfied: Werkzeug>=3.1 in /Users/renshumin/Library/Python/3.9/lib/python/site-packages (from flask->-r requirements.txt (line 1)) (3.1.3)\n",
      "Requirement already satisfied: Jinja2>=3.1.2 in /Users/renshumin/Library/Python/3.9/lib/python/site-packages (from flask->-r requirements.txt (line 1)) (3.1.6)\n",
      "Requirement already satisfied: itsdangerous>=2.2 in /Users/renshumin/Library/Python/3.9/lib/python/site-packages (from flask->-r requirements.txt (line 1)) (2.2.0)\n",
      "Requirement already satisfied: click>=8.1.3 in /Users/renshumin/Library/Python/3.9/lib/python/site-packages (from flask->-r requirements.txt (line 1)) (8.1.8)\n",
      "Requirement already satisfied: blinker>=1.9 in /Users/renshumin/Library/Python/3.9/lib/python/site-packages (from flask->-r requirements.txt (line 1)) (1.9.0)\n",
      "Requirement already satisfied: importlib-metadata>=3.6 in /Users/renshumin/Library/Python/3.9/lib/python/site-packages (from flask->-r requirements.txt (line 1)) (8.6.1)\n",
      "Requirement already satisfied: charset-normalizer<4,>=2 in /Users/renshumin/Library/Python/3.9/lib/python/site-packages (from requests->-r requirements.txt (line 2)) (3.4.1)\n",
      "Requirement already satisfied: idna<4,>=2.5 in /Users/renshumin/Library/Python/3.9/lib/python/site-packages (from requests->-r requirements.txt (line 2)) (3.10)\n",
      "Requirement already satisfied: urllib3<3,>=1.21.1 in /Users/renshumin/Library/Python/3.9/lib/python/site-packages (from requests->-r requirements.txt (line 2)) (2.3.0)\n",
      "Requirement already satisfied: certifi>=2017.4.17 in /Users/renshumin/Library/Python/3.9/lib/python/site-packages (from requests->-r requirements.txt (line 2)) (2025.1.31)\n",
      "Requirement already satisfied: packaging in /Users/renshumin/Library/Python/3.9/lib/python/site-packages (from faiss-cpu->-r requirements.txt (line 4)) (24.2)\n",
      "Requirement already satisfied: python-dateutil>=2.8.2 in /Users/renshumin/Library/Python/3.9/lib/python/site-packages (from pandas->-r requirements.txt (line 5)) (2.9.0.post0)\n",
      "Requirement already satisfied: pytz>=2020.1 in /Users/renshumin/Library/Python/3.9/lib/python/site-packages (from pandas->-r requirements.txt (line 5)) (2025.2)\n",
      "Requirement already satisfied: tzdata>=2022.7 in /Users/renshumin/Library/Python/3.9/lib/python/site-packages (from pandas->-r requirements.txt (line 5)) (2025.2)\n",
      "Requirement already satisfied: transformers<5.0.0,>=4.41.0 in /Users/renshumin/Library/Python/3.9/lib/python/site-packages (from sentence-transformers->-r requirements.txt (line 6)) (4.51.2)\n",
      "Requirement already satisfied: tqdm in /Users/renshumin/Library/Python/3.9/lib/python/site-packages (from sentence-transformers->-r requirements.txt (line 6)) (4.67.1)\n",
      "Requirement already satisfied: torch>=1.11.0 in /Users/renshumin/Library/Python/3.9/lib/python/site-packages (from sentence-transformers->-r requirements.txt (line 6)) (2.6.0)\n",
      "Requirement already satisfied: scipy in /Users/renshumin/Library/Python/3.9/lib/python/site-packages (from sentence-transformers->-r requirements.txt (line 6)) (1.13.1)\n",
      "Requirement already satisfied: huggingface-hub>=0.20.0 in /Users/renshumin/Library/Python/3.9/lib/python/site-packages (from sentence-transformers->-r requirements.txt (line 6)) (0.30.2)\n",
      "Requirement already satisfied: Pillow in /Users/renshumin/Library/Python/3.9/lib/python/site-packages (from sentence-transformers->-r requirements.txt (line 6)) (11.2.1)\n",
      "Requirement already satisfied: typing_extensions>=4.5.0 in /Users/renshumin/Library/Python/3.9/lib/python/site-packages (from sentence-transformers->-r requirements.txt (line 6)) (4.12.2)\n",
      "Requirement already satisfied: joblib>=1.2.0 in /Users/renshumin/Library/Python/3.9/lib/python/site-packages (from scikit-learn->-r requirements.txt (line 7)) (1.4.2)\n",
      "Requirement already satisfied: threadpoolctl>=3.1.0 in /Users/renshumin/Library/Python/3.9/lib/python/site-packages (from scikit-learn->-r requirements.txt (line 7)) (3.6.0)\n",
      "Requirement already satisfied: filelock in /Users/renshumin/Library/Python/3.9/lib/python/site-packages (from huggingface-hub>=0.20.0->sentence-transformers->-r requirements.txt (line 6)) (3.18.0)\n",
      "Requirement already satisfied: fsspec>=2023.5.0 in /Users/renshumin/Library/Python/3.9/lib/python/site-packages (from huggingface-hub>=0.20.0->sentence-transformers->-r requirements.txt (line 6)) (2025.3.2)\n",
      "Requirement already satisfied: pyyaml>=5.1 in /Users/renshumin/Library/Python/3.9/lib/python/site-packages (from huggingface-hub>=0.20.0->sentence-transformers->-r requirements.txt (line 6)) (6.0.2)\n",
      "Requirement already satisfied: zipp>=3.20 in /Users/renshumin/Library/Python/3.9/lib/python/site-packages (from importlib-metadata>=3.6->flask->-r requirements.txt (line 1)) (3.21.0)\n",
      "Requirement already satisfied: MarkupSafe>=2.0 in /Users/renshumin/Library/Python/3.9/lib/python/site-packages (from Jinja2>=3.1.2->flask->-r requirements.txt (line 1)) (3.0.2)\n",
      "Requirement already satisfied: six>=1.5 in /Library/Developer/CommandLineTools/Library/Frameworks/Python3.framework/Versions/3.9/lib/python3.9/site-packages (from python-dateutil>=2.8.2->pandas->-r requirements.txt (line 5)) (1.15.0)\n",
      "Requirement already satisfied: networkx in /Users/renshumin/Library/Python/3.9/lib/python/site-packages (from torch>=1.11.0->sentence-transformers->-r requirements.txt (line 6)) (3.2.1)\n",
      "Requirement already satisfied: sympy==1.13.1 in /Users/renshumin/Library/Python/3.9/lib/python/site-packages (from torch>=1.11.0->sentence-transformers->-r requirements.txt (line 6)) (1.13.1)\n",
      "Requirement already satisfied: mpmath<1.4,>=1.1.0 in /Users/renshumin/Library/Python/3.9/lib/python/site-packages (from sympy==1.13.1->torch>=1.11.0->sentence-transformers->-r requirements.txt (line 6)) (1.3.0)\n",
      "Requirement already satisfied: regex!=2019.12.17 in /Users/renshumin/Library/Python/3.9/lib/python/site-packages (from transformers<5.0.0,>=4.41.0->sentence-transformers->-r requirements.txt (line 6)) (2024.11.6)\n",
      "Requirement already satisfied: tokenizers<0.22,>=0.21 in /Users/renshumin/Library/Python/3.9/lib/python/site-packages (from transformers<5.0.0,>=4.41.0->sentence-transformers->-r requirements.txt (line 6)) (0.21.1)\n",
      "Requirement already satisfied: safetensors>=0.4.3 in /Users/renshumin/Library/Python/3.9/lib/python/site-packages (from transformers<5.0.0,>=4.41.0->sentence-transformers->-r requirements.txt (line 6)) (0.5.3)\n",
      "Note: you may need to restart the kernel to use updated packages.\n"
     ]
    }
   ],
   "source": [
    "pip install -r requirements.txt"
   ]
  },
  {
   "cell_type": "code",
   "execution_count": 11,
   "id": "9bda66b1-fc04-4399-bea4-8e6b6b74bbe3",
   "metadata": {},
   "outputs": [
    {
     "name": "stdout",
     "output_type": "stream",
     "text": [
      "Traceback (most recent call last):\n",
      "  File \u001b[35m\"/Users/renshumin/Desktop/二院工作/科研/CRPM-RAG/project/backend/app.py\"\u001b[0m, line \u001b[35m1\u001b[0m, in \u001b[35m<module>\u001b[0m\n",
      "    from flask import Flask, request, jsonify\n",
      "\u001b[1;35mModuleNotFoundError\u001b[0m: \u001b[35mNo module named 'flask'\u001b[0m\n"
     ]
    }
   ],
   "source": [
    "!python3 app.py\n"
   ]
  },
  {
   "cell_type": "code",
   "execution_count": 5,
   "id": "a1e2929a-a074-41fc-ba50-5d58a3555fa6",
   "metadata": {},
   "outputs": [
    {
     "name": "stdout",
     "output_type": "stream",
     "text": [
      "/Library/Developer/CommandLineTools/usr/bin/python3\n"
     ]
    }
   ],
   "source": [
    "import sys\n",
    "print(sys.executable)"
   ]
  },
  {
   "cell_type": "code",
   "execution_count": 12,
   "id": "6892af27-da4d-4d46-b7d9-c1e7ea9728f0",
   "metadata": {},
   "outputs": [
    {
     "name": "stdout",
     "output_type": "stream",
     "text": [
      "/opt/homebrew/bin/python3\n"
     ]
    }
   ],
   "source": [
    "!which python3\n",
    "\n"
   ]
  },
  {
   "cell_type": "code",
   "execution_count": null,
   "id": "f721be77-3c97-48ed-b8c1-4b6032d1a9eb",
   "metadata": {},
   "outputs": [
    {
     "name": "stdout",
     "output_type": "stream",
     "text": [
      "/Users/renshumin/Library/Python/3.9/lib/python/site-packages/urllib3/__init__.py:35: NotOpenSSLWarning: urllib3 v2 only supports OpenSSL 1.1.1+, currently the 'ssl' module is compiled with 'LibreSSL 2.8.3'. See: https://github.com/urllib3/urllib3/issues/3020\n",
      "  warnings.warn(\n",
      "加载数据...\n",
      "数据加载完成，数据集大小：(808, 20)\n",
      "加载嵌入模型...\n",
      "嵌入模型加载完成\n",
      "预计算嵌入向量并构建/加载 FAISS 索引...\n",
      "检测到已有索引文件，开始加载...\n",
      "FAISS 索引加载完成\n",
      " * Serving Flask app 'app'\n",
      " * Debug mode: on\n",
      "\u001b[31m\u001b[1mWARNING: This is a development server. Do not use it in a production deployment. Use a production WSGI server instead.\u001b[0m\n",
      " * Running on http://127.0.0.1:5000\n",
      "\u001b[33mPress CTRL+C to quit\u001b[0m\n",
      " * Restarting with stat\n",
      "/Users/renshumin/Library/Python/3.9/lib/python/site-packages/urllib3/__init__.py:35: NotOpenSSLWarning: urllib3 v2 only supports OpenSSL 1.1.1+, currently the 'ssl' module is compiled with 'LibreSSL 2.8.3'. See: https://github.com/urllib3/urllib3/issues/3020\n",
      "  warnings.warn(\n",
      "加载数据...\n",
      "数据加载完成，数据集大小：(808, 20)\n",
      "加载嵌入模型...\n",
      "嵌入模型加载完成\n",
      "预计算嵌入向量并构建/加载 FAISS 索引...\n",
      "检测到已有索引文件，开始加载...\n",
      "FAISS 索引加载完成\n",
      " * Debugger is active!\n",
      " * Debugger PIN: 796-571-266\n"
     ]
    }
   ],
   "source": [
    "import sys\n",
    "!{sys.executable} app.py\n"
   ]
  }
 ],
 "metadata": {
  "kernelspec": {
   "display_name": "Python 3 (ipykernel)",
   "language": "python",
   "name": "python3"
  },
  "language_info": {
   "codemirror_mode": {
    "name": "ipython",
    "version": 3
   },
   "file_extension": ".py",
   "mimetype": "text/x-python",
   "name": "python",
   "nbconvert_exporter": "python",
   "pygments_lexer": "ipython3",
   "version": "3.9.6"
  }
 },
 "nbformat": 4,
 "nbformat_minor": 5
}
